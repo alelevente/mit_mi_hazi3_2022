{
 "cells": [
  {
   "cell_type": "markdown",
   "id": "8ad66a5a-b4f4-44b2-a815-ae46148e79d3",
   "metadata": {},
   "source": [
    "# **Evaluation**"
   ]
  },
  {
   "cell_type": "code",
   "execution_count": 1,
   "id": "cef5f139-6df5-45b0-bd29-adce1a222b8a",
   "metadata": {},
   "outputs": [],
   "source": [
    "#import pandas as pd\n",
    "import numpy as np"
   ]
  },
  {
   "cell_type": "code",
   "execution_count": 50,
   "id": "1b45496d-5956-47f1-bf8b-aefc02a5f7e5",
   "metadata": {},
   "outputs": [],
   "source": [
    "gt = np.genfromtxt(\"evaluate.csv\", delimiter=\",\").astype(int)\n",
    "results = np.genfromtxt(\"results.csv\", delimiter=\",\").astype(int)\n",
    "decision = gt[:, -1]"
   ]
  },
  {
   "cell_type": "code",
   "execution_count": 35,
   "id": "6cf31b3d-858f-4e9e-8473-691113034e35",
   "metadata": {},
   "outputs": [],
   "source": [
    "accuracy = np.sum(decision == results) / len(gt)"
   ]
  },
  {
   "cell_type": "code",
   "execution_count": 36,
   "id": "856dccc4-6713-418c-b62c-ecdb05519afa",
   "metadata": {},
   "outputs": [
    {
     "data": {
      "text/plain": [
       "0.9825096899224807"
      ]
     },
     "execution_count": 36,
     "metadata": {},
     "output_type": "execute_result"
    }
   ],
   "source": [
    "accuracy"
   ]
  },
  {
   "cell_type": "code",
   "execution_count": 51,
   "id": "6f64b56a-0f15-4a08-aee4-ccad30b1d939",
   "metadata": {},
   "outputs": [
    {
     "data": {
      "text/plain": [
       "0.9544824107930905"
      ]
     },
     "execution_count": 51,
     "metadata": {},
     "output_type": "execute_result"
    }
   ],
   "source": [
    "def is_fake(results):\n",
    "    results = results==1\n",
    "    return np.all(results) or np.all(~np.array(results))\n",
    "\n",
    "def precision(gt, result):\n",
    "    tp = np.sum(np.logical_and((decision == result), decision == True))\n",
    "    fp = np.sum(np.logical_and((decision != result), results == True))\n",
    "    return tp/(tp+fp) if tp+fp>0 else 0\n",
    "\n",
    "def recall(gt, result):\n",
    "    tp = np.sum(np.logical_and((decision == result), decision == True))\n",
    "    fn = np.sum(np.logical_and((decision != result), results == False))\n",
    "    return tp/(tp+fn) if tp+fn>0 else 0\n",
    "\n",
    "def f2_score(gt, result):\n",
    "    prec = precision(gt, result)\n",
    "    reca = recall(gt, result)\n",
    "    return 2*(prec*reca)/(prec+reca) if prec+reca > 0 else 0\n",
    "\n",
    "f2_score(gt, results)"
   ]
  },
  {
   "cell_type": "code",
   "execution_count": 52,
   "id": "9d839081-6c70-4cbc-bd92-b8f588d6c61e",
   "metadata": {},
   "outputs": [
    {
     "data": {
      "text/plain": [
       "False"
      ]
     },
     "execution_count": 52,
     "metadata": {},
     "output_type": "execute_result"
    }
   ],
   "source": [
    "is_fake(results)"
   ]
  },
  {
   "cell_type": "code",
   "execution_count": 53,
   "id": "5e3a334f-181d-4fe3-be3e-ad2c43a2fa02",
   "metadata": {},
   "outputs": [
    {
     "data": {
      "text/plain": [
       "(0.9989443124835049, 0.9138097537421536)"
      ]
     },
     "execution_count": 53,
     "metadata": {},
     "output_type": "execute_result"
    }
   ],
   "source": [
    "precision(gt, results), recall(gt, results)"
   ]
  },
  {
   "cell_type": "code",
   "execution_count": 9,
   "id": "2ff5750a-e21b-4da1-87cf-cf56e9f6973c",
   "metadata": {},
   "outputs": [
    {
     "data": {
      "text/plain": [
       "20640"
      ]
     },
     "execution_count": 9,
     "metadata": {},
     "output_type": "execute_result"
    }
   ],
   "source": [
    "np.sum(gt[\"decision\"] == results[0])"
   ]
  },
  {
   "cell_type": "code",
   "execution_count": 10,
   "id": "3e072fbd-3284-4f79-a9a3-5e6ae2ad08e0",
   "metadata": {},
   "outputs": [
    {
     "data": {
      "text/plain": [
       "0        False\n",
       "1        False\n",
       "2         True\n",
       "3        False\n",
       "4        False\n",
       "         ...  \n",
       "20635    False\n",
       "20636     True\n",
       "20637    False\n",
       "20638    False\n",
       "20639    False\n",
       "Length: 20640, dtype: bool"
      ]
     },
     "execution_count": 10,
     "metadata": {},
     "output_type": "execute_result"
    }
   ],
   "source": [
    "np.logical_and(gt[\"decision\"] == results[0], gt[\"decision\"] == True)"
   ]
  },
  {
   "cell_type": "markdown",
   "id": "2250deef-db71-4c9f-a992-3133ffb04ce2",
   "metadata": {},
   "source": [
    "## Entropy evaluator"
   ]
  },
  {
   "cell_type": "code",
   "execution_count": 54,
   "id": "2770c13e-55e0-4760-a42e-0739f1639d59",
   "metadata": {},
   "outputs": [],
   "source": [
    "n_above = np.random.randint(1, 100)\n",
    "n_below = np.random.randint(1, 100)"
   ]
  },
  {
   "cell_type": "code",
   "execution_count": 55,
   "id": "c0fd123c-0cbb-4621-804a-20b4cd8c2b7d",
   "metadata": {},
   "outputs": [],
   "source": [
    "def get_entropy(n_above, n_below):\n",
    "    if n_above == 0 or n_below == 0: return 0.0\n",
    "    p_above = n_above/(n_above+n_below)\n",
    "    p_below = n_below/(n_above+n_below)\n",
    "    return -(p_above*np.log2(p_above))-(p_below*np.log2(p_below))"
   ]
  },
  {
   "cell_type": "code",
   "execution_count": 56,
   "id": "0f3f8b9f-af28-49f6-bc09-4960173edd87",
   "metadata": {},
   "outputs": [],
   "source": [
    "gt_entropy = get_entropy(n_above, n_below)"
   ]
  },
  {
   "cell_type": "code",
   "execution_count": 57,
   "id": "ec702b64-85e5-4f45-9387-e514749f233c",
   "metadata": {},
   "outputs": [],
   "source": [
    "import os.path,subprocess\n",
    "from subprocess import STDOUT,PIPE\n",
    "\n",
    "def compile_java(java_file):\n",
    "    subprocess.check_call(['javac', java_file])\n",
    "\n",
    "def execute_java(java_file, inputs):\n",
    "    java_class,ext = os.path.splitext(java_file)\n",
    "    cmd = ['java', java_class]\n",
    "    for inp in inputs:\n",
    "        cmd.append(inp)\n",
    "    proc = subprocess.run(cmd, capture_output=True, text=True)\n",
    "    return proc.stdout\n",
    "\n",
    "compile_java('EvalEntropy.java')\n",
    "entropy_result = float(execute_java('EvalEntropy.java', [str(n_above), str(n_below)]))"
   ]
  },
  {
   "cell_type": "code",
   "execution_count": 58,
   "id": "b7430c67-e89f-412b-b4ba-5b83abcfc451",
   "metadata": {},
   "outputs": [
    {
     "data": {
      "text/plain": [
       "0.0"
      ]
     },
     "execution_count": 58,
     "metadata": {},
     "output_type": "execute_result"
    }
   ],
   "source": [
    "gt_entropy-entropy_result"
   ]
  },
  {
   "cell_type": "code",
   "execution_count": 59,
   "id": "9eb490fd-4c61-40d0-be24-33b7f2eb13b6",
   "metadata": {},
   "outputs": [
    {
     "data": {
      "text/plain": [
       "True"
      ]
     },
     "execution_count": 59,
     "metadata": {},
     "output_type": "execute_result"
    }
   ],
   "source": [
    "np.abs(gt_entropy-entropy_result)<1e-5"
   ]
  },
  {
   "cell_type": "markdown",
   "id": "6e6a6bcc-2db0-44d3-9540-0458e69a0e1a",
   "metadata": {},
   "source": [
    "## Separator evaluator"
   ]
  },
  {
   "cell_type": "code",
   "execution_count": 63,
   "id": "77519b5a-8f1a-49af-bb10-fcdce54af6f7",
   "metadata": {},
   "outputs": [],
   "source": [
    "np.random.shuffle(gt)\n",
    "eval_df = gt[:100]\n",
    "features = eval_df[:, :-1]\n",
    "features_f = features.flatten()\n",
    "labels = eval_df[:, -1]"
   ]
  },
  {
   "cell_type": "code",
   "execution_count": 64,
   "id": "f4b7e38b-c651-4c19-83b2-17fa743d7c77",
   "metadata": {},
   "outputs": [],
   "source": [
    "def eval_separation(features, labels, separation):\n",
    "    features = np.array(features)\n",
    "    labels = np.array(labels).reshape((len(labels), 1))\n",
    "    data = np.hstack([features, labels])\n",
    "    \n",
    "    gains = {}\n",
    "    best_gain = 0.0\n",
    "    \n",
    "    parent_entropy = get_entropy(np.sum(labels), len(labels)-np.sum(labels))    \n",
    "    for j in range(features.shape[1]):\n",
    "        uniques = np.unique(features[:, j])\n",
    "        for u in uniques:\n",
    "            sepa = \"%d@%d\"%(j,u)\n",
    "            #print(sepa)\n",
    "            split = np.logical_and(data.T[-1],data.T[1]<=u)\n",
    "            #print(split)\n",
    "            entropy = get_entropy(np.sum(split), len(split)-np.sum(split))\n",
    "            gain = parent_entropy-entropy\n",
    "            gains[sepa] = gain\n",
    "            if gain>best_gain:\n",
    "                best_gain = gain\n",
    "    \n",
    "    return not(best_gain > gains[separation])"
   ]
  },
  {
   "cell_type": "code",
   "execution_count": 65,
   "id": "eeb46e9c-ee95-44b5-a24c-769e7cbb68ab",
   "metadata": {},
   "outputs": [],
   "source": [
    "#features = [[3,5],\n",
    "#            [2,3],\n",
    "#            [1,5],\n",
    "#            [0,3]]\n",
    "#features_f = np.array(features).flatten()\n",
    "#labels = [1, 1, 0, 0]\n",
    "\n",
    "compile_java('EvalSeparation.java')\n",
    "command = [str(features.shape[0]),\n",
    "           str(features.shape[1])]\n",
    "for f in features_f:\n",
    "    command.append(str(f))\n",
    "for l in labels:\n",
    "    command.append('0' if l==False else '1')\n",
    "sep_result = execute_java('EvalSeparation.java', command)[:-1]"
   ]
  },
  {
   "cell_type": "code",
   "execution_count": 66,
   "id": "fbf569a4-5567-4ab6-b6e5-95b36426b04f",
   "metadata": {},
   "outputs": [
    {
     "data": {
      "text/plain": [
       "'1@3'"
      ]
     },
     "execution_count": 66,
     "metadata": {},
     "output_type": "execute_result"
    }
   ],
   "source": [
    "sep_result"
   ]
  },
  {
   "cell_type": "code",
   "execution_count": 67,
   "id": "a77e50f6-ce97-4594-976a-024346a5c868",
   "metadata": {},
   "outputs": [
    {
     "data": {
      "text/plain": [
       "True"
      ]
     },
     "execution_count": 67,
     "metadata": {},
     "output_type": "execute_result"
    }
   ],
   "source": [
    "eval_separation(features, labels, sep_result)"
   ]
  }
 ],
 "metadata": {
  "kernelspec": {
   "display_name": "Python 3 (ipykernel)",
   "language": "python",
   "name": "python3"
  },
  "language_info": {
   "codemirror_mode": {
    "name": "ipython",
    "version": 3
   },
   "file_extension": ".py",
   "mimetype": "text/x-python",
   "name": "python",
   "nbconvert_exporter": "python",
   "pygments_lexer": "ipython3",
   "version": "3.9.13"
  }
 },
 "nbformat": 4,
 "nbformat_minor": 5
}
