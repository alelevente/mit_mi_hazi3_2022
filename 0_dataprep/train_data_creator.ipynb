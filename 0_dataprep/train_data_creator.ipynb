{
 "cells": [
  {
   "cell_type": "markdown",
   "id": "013cf02a-390f-471a-b84e-4dd82a234010",
   "metadata": {},
   "source": [
    "# **Creating Training Data for Decision Trees**"
   ]
  },
  {
   "cell_type": "code",
   "execution_count": 1,
   "id": "77512534-6871-41b4-bc68-75a4a521abd3",
   "metadata": {},
   "outputs": [],
   "source": [
    "import numpy as np\n",
    "#import pandas as pd"
   ]
  },
  {
   "cell_type": "markdown",
   "id": "ffb168fd-8120-498e-b336-5a7f125565e2",
   "metadata": {},
   "source": [
    "## **Preparing data**"
   ]
  },
  {
   "cell_type": "code",
   "execution_count": 20,
   "id": "4beb01d1-61ef-46e9-86a2-d4f43769f0b7",
   "metadata": {},
   "outputs": [],
   "source": [
    "original_data = np.genfromtxt(\"cal_housing.csv\", delimiter=\",\", skip_header=1).astype(int)"
   ]
  },
  {
   "cell_type": "markdown",
   "id": "bc6250bd-29c4-4197-b2f5-16d5dcbe9636",
   "metadata": {},
   "source": [
    "Shuffling data and removing the `decision` column:"
   ]
  },
  {
   "cell_type": "code",
   "execution_count": 21,
   "id": "a30ad60d-2cec-445e-bbf2-fbe515c5b26e",
   "metadata": {},
   "outputs": [],
   "source": [
    "np.random.shuffle(original_data)"
   ]
  },
  {
   "cell_type": "code",
   "execution_count": 22,
   "id": "e2c638a4-18fd-4ae4-a217-dfa8da4e0634",
   "metadata": {},
   "outputs": [
    {
     "data": {
      "text/plain": [
       "array([[   2,   17,    4, ...,    5,   36, -120],\n",
       "       [   4,   48,    5, ...,    3,   37, -122],\n",
       "       [   6,   36,    6, ...,    3,   34, -118],\n",
       "       ...,\n",
       "       [   2,   52,    4, ...,    3,   34, -118],\n",
       "       [   4,   35,    5, ...,    3,   34, -118],\n",
       "       [   4,   48,    5, ...,    2,   34, -118]])"
      ]
     },
     "execution_count": 22,
     "metadata": {},
     "output_type": "execute_result"
    }
   ],
   "source": [
    "original_data"
   ]
  },
  {
   "cell_type": "markdown",
   "id": "bb5d6ca7-c5f1-42a5-ba2e-b799f7abeb0a",
   "metadata": {},
   "source": [
    "Converting textual values to numeric:"
   ]
  },
  {
   "cell_type": "code",
   "execution_count": 5,
   "id": "5733235e-662a-4204-a176-fbed3b98ffe6",
   "metadata": {},
   "outputs": [],
   "source": [
    "#helpers:\n",
    "def convert_text_to_num(df):\n",
    "    '''Converts categorical data to numerical in the passed pandas.DataFrame\n",
    "       -----------\n",
    "       parameters:\n",
    "         - df: a pandas.DataFrame containing categorical data\n",
    "       returns:\n",
    "         - the converted DataFrame containing only numerical data\n",
    "         - a map that represents the executed conversion\n",
    "    '''\n",
    "\n",
    "    df_return = pd.DataFrame()\n",
    "    return_map = {}\n",
    "    for c in df.columns:\n",
    "        #checking whether the data is categorical:\n",
    "        if df.dtypes[c]==object:\n",
    "            _rc = {}\n",
    "            replace_map = {}\n",
    "            uniques = pd.unique(df[c])\n",
    "            #converting categorical data:\n",
    "            for i, val in enumerate(uniques):\n",
    "                replace_map[val] = i #how to convert\n",
    "                _rc[i] = val #what have we done (inverse of the conversion)\n",
    "            df_return[c] = df[c].replace(replace_map, inplace=False)\n",
    "            return_map[c] = _rc\n",
    "        else:\n",
    "            df_return[c] = df[c]\n",
    "    return df_return, return_map\n",
    "\n",
    "def convert_num_to_text(df, return_map):\n",
    "    '''Converts numerical data back to categorical. (Inverse\n",
    "       of the convert_text_to_num function)\n",
    "       -----------\n",
    "       parameters:\n",
    "         - df: a pandas.DataFrame containing only numerical data\n",
    "         - return_map: the map representing the executed conversion\n",
    "       returns:\n",
    "         - a pandas.DataFrame containing categorical data.\n",
    "    '''\n",
    "    df_return = pd.DataFrame()\n",
    "    for c in df.columns:\n",
    "        #transforming back the originally categorical data\n",
    "        if c in return_map:\n",
    "            df_return[c] = df[c].replace(return_map[c], inplace=False)\n",
    "        else:\n",
    "            df_return[c] = df[c]\n",
    "    return df_return"
   ]
  },
  {
   "cell_type": "code",
   "execution_count": 6,
   "id": "2f3dfcbd-b199-4632-8970-efd4730b83d5",
   "metadata": {},
   "outputs": [
    {
     "data": {
      "text/plain": [
       "{}"
      ]
     },
     "execution_count": 6,
     "metadata": {},
     "output_type": "execute_result"
    }
   ],
   "source": [
    "converted_df, conv_map = convert_text_to_num(original_data)\n",
    "conv_map"
   ]
  },
  {
   "cell_type": "markdown",
   "id": "e41efcc4-8558-484b-bfe1-f9671769e320",
   "metadata": {},
   "source": [
    "## **Creating fake decisions**"
   ]
  },
  {
   "cell_type": "code",
   "execution_count": 7,
   "id": "e4f8cfd3-23dc-4eb2-bfdc-20e12d385cdf",
   "metadata": {},
   "outputs": [
    {
     "data": {
      "text/plain": [
       "[]"
      ]
     },
     "execution_count": 7,
     "metadata": {},
     "output_type": "execute_result"
    }
   ],
   "source": [
    "keys = [x for x in conv_map]\n",
    "keys"
   ]
  },
  {
   "cell_type": "code",
   "execution_count": 8,
   "id": "700d61f4-1bfe-4bfa-84fe-201dbc9e9460",
   "metadata": {},
   "outputs": [],
   "source": [
    "converted_df = original_data"
   ]
  },
  {
   "cell_type": "code",
   "execution_count": 25,
   "id": "566fa762-efe8-4687-bdd3-6c344bb3b143",
   "metadata": {},
   "outputs": [
    {
     "name": "stdout",
     "output_type": "stream",
     "text": [
      "6 35\n",
      "3 10\n",
      "5 7\n",
      "============\n",
      "3 4\n",
      "6 40\n",
      "0 8\n",
      "2 8\n",
      "============\n",
      "5 9\n",
      "0 4\n",
      "1 13\n",
      "============\n",
      "7 -119\n",
      "5 64\n",
      "1 14\n",
      "3 1\n",
      "============\n",
      "2 4\n",
      "6 34\n",
      "3 9\n",
      "============\n",
      "0 15\n",
      "4 1563\n",
      "============\n",
      "5 41\n",
      "0 12\n",
      "============\n",
      "4 1029\n",
      "6 36\n",
      "5 51\n",
      "0 9\n",
      "============\n",
      "4 4828\n",
      "7 -122\n",
      "1 20\n",
      "2 53\n",
      "============\n",
      "6 37\n",
      "0 11\n",
      "7 -123\n",
      "4 1091\n",
      "============\n",
      "3 1\n",
      "1 43\n",
      "6 33\n",
      "0 1\n",
      "============\n",
      "4 737\n",
      "1 2\n",
      "0 14\n",
      "7 -122\n",
      "============\n",
      "1 10\n",
      "4 2609\n",
      "6 34\n",
      "0 11\n",
      "============\n",
      "0 13\n",
      "7 -114\n",
      "1 27\n",
      "4 1666\n",
      "============\n",
      "6 41\n",
      "4 1255\n",
      "7 -114\n",
      "1 27\n",
      "============\n",
      "4 3946\n",
      "6 39\n",
      "2 48\n",
      "============\n",
      "5 2\n",
      "4 2041\n",
      "6 37\n",
      "============\n",
      "4 59\n",
      "5 83\n",
      "============\n",
      "5 8\n",
      "2 5\n",
      "============\n",
      "6 36\n",
      "7 -118\n",
      "============\n",
      "1 29\n",
      "2 11\n",
      "6 38\n",
      "============\n",
      "6 37\n",
      "2 48\n",
      "============\n",
      "4 955\n",
      "5 2\n",
      "6 34\n",
      "============\n"
     ]
    }
   ],
   "source": [
    "decision = np.full((len(original_data)), False)\n",
    "while (np.sum(decision)<0.2 * len(decision)) or (np.sum(decision)>0.8 * len(decision)):\n",
    "    #converted_df.drop(columns=[\"decision\"])\n",
    "    dec_num = np.random.randint(2, 5, 1)[0]\n",
    "    dec_features = np.random.choice(np.arange(0, original_data.shape[1]), size=dec_num, replace=False)\n",
    "    decision = np.full((len(original_data)), True)\n",
    "    for feature in dec_features:\n",
    "        limit = np.random.choice(np.unique(original_data[:, feature]), size=1)[0]\n",
    "        print(feature, limit)\n",
    "        decision = np.logical_and(decision, original_data[:, feature]>limit)\n",
    "    print(\"============\")"
   ]
  },
  {
   "cell_type": "code",
   "execution_count": 26,
   "id": "c6291ec8-713d-4cf7-bf50-668e49c28338",
   "metadata": {},
   "outputs": [
    {
     "data": {
      "text/plain": [
       "0.20067829457364342"
      ]
     },
     "execution_count": 26,
     "metadata": {},
     "output_type": "execute_result"
    }
   ],
   "source": [
    "np.sum(decision)/len(decision)"
   ]
  },
  {
   "cell_type": "code",
   "execution_count": 35,
   "id": "f41729c4-637e-496a-b25a-b91ca98910a7",
   "metadata": {},
   "outputs": [],
   "source": [
    "created_eval_data = np.hstack([original_data.astype(int), decision.reshape((len(decision),1))])\n",
    "np.savetxt(\"../3_evaluation/evaluate.csv\", created_eval_data, delimiter = ',', fmt=\"%d\")\n",
    "np.savetxt(\"../3_evaluation/train.csv\", created_eval_data[:150], delimiter = \",\", fmt=\"%d\")\n",
    "np.savetxt(\"../3_evaluation/test.csv\", created_eval_data[:, :-1], delimiter=\",\", fmt=\"%d\")\n",
    "#converted_df.to_csv(\"../3_evaluation/evaluate.csv\", index=False)\n",
    "#converted_df.sample(n=150).to_csv(\"../2_solution/train.csv\", index=False)"
   ]
  },
  {
   "cell_type": "code",
   "execution_count": 13,
   "id": "5f2589a6-ad6f-41ce-884a-6e610e3283c9",
   "metadata": {},
   "outputs": [],
   "source": [
    "test = pd.read_csv(\"../3_evaluation/evaluate.csv\")\n",
    "test = test.drop(columns=[\"decision\"])\n",
    "test.to_csv(\"../2_solution/test.csv\", index=False)"
   ]
  }
 ],
 "metadata": {
  "kernelspec": {
   "display_name": "Python 3 (ipykernel)",
   "language": "python",
   "name": "python3"
  },
  "language_info": {
   "codemirror_mode": {
    "name": "ipython",
    "version": 3
   },
   "file_extension": ".py",
   "mimetype": "text/x-python",
   "name": "python",
   "nbconvert_exporter": "python",
   "pygments_lexer": "ipython3",
   "version": "3.9.13"
  }
 },
 "nbformat": 4,
 "nbformat_minor": 5
}
